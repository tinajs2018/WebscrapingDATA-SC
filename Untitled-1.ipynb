{
 "cells": [
  {
   "cell_type": "code",
   "execution_count": null,
   "metadata": {},
   "outputs": [],
   "source": [
    "import sqlite3\n",
    "import pandas as pd\n",
    "sql_connection =sqlite3.connect(\"database.db\")\n",
    "\n",
    "df.to_sql(tablename,sql_connection,if_exists ='replace',index =False)\n",
    "df=pd.read_sql(ELECT * FROM table_name,sql_connection)\n",
    "\n"
   ]
  }
 ],
 "metadata": {
  "language_info": {
   "name": "python"
  }
 },
 "nbformat": 4,
 "nbformat_minor": 2
}
